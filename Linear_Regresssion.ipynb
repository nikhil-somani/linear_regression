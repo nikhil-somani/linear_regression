{
  "nbformat": 4,
  "nbformat_minor": 0,
  "metadata": {
    "colab": {
      "name": "Linear Regresssion.ipynb",
      "provenance": [],
      "collapsed_sections": [],
      "authorship_tag": "ABX9TyPXp0f00pAk5qRfaJDf2rfq",
      "include_colab_link": true
    },
    "kernelspec": {
      "name": "python3",
      "display_name": "Python 3"
    }
  },
  "cells": [
    {
      "cell_type": "markdown",
      "metadata": {
        "id": "view-in-github",
        "colab_type": "text"
      },
      "source": [
        "<a href=\"https://colab.research.google.com/github/nikhil-somani/linear_regression/blob/main/Linear_Regresssion.ipynb\" target=\"_parent\"><img src=\"https://colab.research.google.com/assets/colab-badge.svg\" alt=\"Open In Colab\"/></a>"
      ]
    },
    {
      "cell_type": "markdown",
      "metadata": {
        "id": "momyJ1ftYpBS"
      },
      "source": [
        "## **Linear Regression using Python**"
      ]
    },
    {
      "cell_type": "code",
      "metadata": {
        "colab": {
          "base_uri": "https://localhost:8080/"
        },
        "id": "o8H-7IA-Y-ni",
        "outputId": "6d690c2b-e329-4f94-eac7-f8d876f08d7f"
      },
      "source": [
        "#import libraries required to perform linear regression in python\n",
        "import pandas as pd #import pandas to notebook macro as pd\n",
        "import numpy as np #importing numpy to notebook macro as np\n",
        "import matplotlib.pyplot as plt  #importing matplotlib library to notebook, macro as plt\n",
        "%matplotlib inline  #it sets the backend of matplotlib to inline which provides direct output in notebook b"
      ],
      "execution_count": 18,
      "outputs": [
        {
          "output_type": "stream",
          "text": [
            "UsageError: unrecognized arguments: #it sets the backend of matplotlib to inline which provides direct output in notebook b\n"
          ],
          "name": "stderr"
        }
      ]
    },
    {
      "cell_type": "code",
      "metadata": {
        "colab": {
          "base_uri": "https://localhost:8080/",
          "height": 376
        },
        "id": "20Xf93aRbRZk",
        "outputId": "02f252df-5236-469a-a530-b13b4492cf57"
      },
      "source": [
        "url = \"http://bit.ly/w-data\" #url of the data file provided stored in a variable\n",
        "data = pd.read_csv(url)  #read_csv methods to read the data file and create a data frame\n",
        "print(\"Data imported successfully\")  # message printing data imported successfully\n",
        "# print(data)  to print complete data\n",
        "data.head(10) #to print 10 rows of data\n"
      ],
      "execution_count": 19,
      "outputs": [
        {
          "output_type": "stream",
          "text": [
            "Data imported successfully\n"
          ],
          "name": "stdout"
        },
        {
          "output_type": "execute_result",
          "data": {
            "text/html": [
              "<div>\n",
              "<style scoped>\n",
              "    .dataframe tbody tr th:only-of-type {\n",
              "        vertical-align: middle;\n",
              "    }\n",
              "\n",
              "    .dataframe tbody tr th {\n",
              "        vertical-align: top;\n",
              "    }\n",
              "\n",
              "    .dataframe thead th {\n",
              "        text-align: right;\n",
              "    }\n",
              "</style>\n",
              "<table border=\"1\" class=\"dataframe\">\n",
              "  <thead>\n",
              "    <tr style=\"text-align: right;\">\n",
              "      <th></th>\n",
              "      <th>Hours</th>\n",
              "      <th>Scores</th>\n",
              "    </tr>\n",
              "  </thead>\n",
              "  <tbody>\n",
              "    <tr>\n",
              "      <th>0</th>\n",
              "      <td>2.5</td>\n",
              "      <td>21</td>\n",
              "    </tr>\n",
              "    <tr>\n",
              "      <th>1</th>\n",
              "      <td>5.1</td>\n",
              "      <td>47</td>\n",
              "    </tr>\n",
              "    <tr>\n",
              "      <th>2</th>\n",
              "      <td>3.2</td>\n",
              "      <td>27</td>\n",
              "    </tr>\n",
              "    <tr>\n",
              "      <th>3</th>\n",
              "      <td>8.5</td>\n",
              "      <td>75</td>\n",
              "    </tr>\n",
              "    <tr>\n",
              "      <th>4</th>\n",
              "      <td>3.5</td>\n",
              "      <td>30</td>\n",
              "    </tr>\n",
              "    <tr>\n",
              "      <th>5</th>\n",
              "      <td>1.5</td>\n",
              "      <td>20</td>\n",
              "    </tr>\n",
              "    <tr>\n",
              "      <th>6</th>\n",
              "      <td>9.2</td>\n",
              "      <td>88</td>\n",
              "    </tr>\n",
              "    <tr>\n",
              "      <th>7</th>\n",
              "      <td>5.5</td>\n",
              "      <td>60</td>\n",
              "    </tr>\n",
              "    <tr>\n",
              "      <th>8</th>\n",
              "      <td>8.3</td>\n",
              "      <td>81</td>\n",
              "    </tr>\n",
              "    <tr>\n",
              "      <th>9</th>\n",
              "      <td>2.7</td>\n",
              "      <td>25</td>\n",
              "    </tr>\n",
              "  </tbody>\n",
              "</table>\n",
              "</div>"
            ],
            "text/plain": [
              "   Hours  Scores\n",
              "0    2.5      21\n",
              "1    5.1      47\n",
              "2    3.2      27\n",
              "3    8.5      75\n",
              "4    3.5      30\n",
              "5    1.5      20\n",
              "6    9.2      88\n",
              "7    5.5      60\n",
              "8    8.3      81\n",
              "9    2.7      25"
            ]
          },
          "metadata": {
            "tags": []
          },
          "execution_count": 19
        }
      ]
    },
    {
      "cell_type": "code",
      "metadata": {
        "colab": {
          "base_uri": "https://localhost:8080/",
          "height": 295
        },
        "id": "boNOpwgmcE1f",
        "outputId": "88c732eb-70e9-48e7-be6b-74706b6cd05e"
      },
      "source": [
        "#Plotting of data in 2d plot\n",
        "\n",
        "data.plot(x='Hours', y='Scores', style='og') #plot module and variabes defined and style as 0 and g for green\n",
        "plt.title('Hours vs percentage') #title for plot\n",
        "plt.xlabel('Hours') #x lable for the plot\n",
        "plt.ylabel('Scores') #y label for the plot\n",
        "plt.show() #show the plot\n"
      ],
      "execution_count": 20,
      "outputs": [
        {
          "output_type": "display_data",
          "data": {
            "image/png": "[encoded data removed]",
            "text/plain": [
              "<Figure size 432x288 with 1 Axes>"
            ]
          },
          "metadata": {
            "tags": [],
            "needs_background": "light"
          }
        }
      ]
    },
    {
      "cell_type": "code",
      "metadata": {
        "colab": {
          "base_uri": "https://localhost:8080/"
        },
        "id": "_57knhUHi9ow",
        "outputId": "92178ff8-337a-4627-d281-16e44f2f1c9b"
      },
      "source": [
        "#Data Preparation \n",
        "\n",
        "type(data)  #check the type of data as we need dataframe and read_csv always provides dataframe directly\n",
        "\n",
        "#integer location based indexing using iloc\n",
        "X = data.iloc[:, :-1].values #input X is usually taken in uppercase\n",
        "y = data.iloc[:,1].values #output paramter y is usually taken in smallcase\n",
        "\n",
        "print(X) #printing the data values for X\n",
        "print(y) #printing the data values for y"
      ],
      "execution_count": 21,
      "outputs": [
        {
          "output_type": "stream",
          "text": [
            "[[2.5]\n",
            " [5.1]\n",
            " [3.2]\n",
            " [8.5]\n",
            " [3.5]\n",
            " [1.5]\n",
            " [9.2]\n",
            " [5.5]\n",
            " [8.3]\n",
            " [2.7]\n",
            " [7.7]\n",
            " [5.9]\n",
            " [4.5]\n",
            " [3.3]\n",
            " [1.1]\n",
            " [8.9]\n",
            " [2.5]\n",
            " [1.9]\n",
            " [6.1]\n",
            " [7.4]\n",
            " [2.7]\n",
            " [4.8]\n",
            " [3.8]\n",
            " [6.9]\n",
            " [7.8]]\n",
            "[21 47 27 75 30 20 88 60 81 25 85 62 41 42 17 95 30 24 67 69 30 54 35 76\n",
            " 86]\n"
          ],
          "name": "stdout"
        }
      ]
    },
    {
      "cell_type": "code",
      "metadata": {
        "colab": {
          "base_uri": "https://localhost:8080/"
        },
        "id": "BrVw8M1doFs3",
        "outputId": "3db416ef-861a-4140-fe3d-8994c72aad4e"
      },
      "source": [
        "#data splitting in train and test dataset\n",
        "\n",
        "from sklearn.model_selection import train_test_split #import train_test_split method from sklear.model_selection module \n",
        "X_train, X_test, y_train, y_test = train_test_split(X, y, test_size=0.2, random_state=0)  #set the outcome from train_test_split method\n",
        "\n",
        "print(X_train) #prints X training data\n",
        "print(X_test)  #print X testing data"
      ],
      "execution_count": 22,
      "outputs": [
        {
          "output_type": "stream",
          "text": [
            "[[3.8]\n",
            " [1.9]\n",
            " [7.8]\n",
            " [6.9]\n",
            " [1.1]\n",
            " [5.1]\n",
            " [7.7]\n",
            " [3.3]\n",
            " [8.3]\n",
            " [9.2]\n",
            " [6.1]\n",
            " [3.5]\n",
            " [2.7]\n",
            " [5.5]\n",
            " [2.7]\n",
            " [8.5]\n",
            " [2.5]\n",
            " [4.8]\n",
            " [8.9]\n",
            " [4.5]]\n",
            "[[1.5]\n",
            " [3.2]\n",
            " [7.4]\n",
            " [2.5]\n",
            " [5.9]]\n"
          ],
          "name": "stdout"
        }
      ]
    },
    {
      "cell_type": "code",
      "metadata": {
        "colab": {
          "base_uri": "https://localhost:8080/"
        },
        "id": "RzrLScm60zEH",
        "outputId": "4f531675-b427-4dff-d284-2b5b76cd7a49"
      },
      "source": [
        "#now train the algorithm\n",
        "from sklearn.linear_model import LinearRegression   #import the LinearRegression method from sklearn.linear_model module\n",
        "regr = LinearRegression()  #create object of LinearRegression method\n",
        "regr.fit(X_train, y_train) #fit the data using fit method \n",
        "print(\"Training Complete\") #prints training complete message\n"
      ],
      "execution_count": 23,
      "outputs": [
        {
          "output_type": "stream",
          "text": [
            "Training Complete\n"
          ],
          "name": "stdout"
        }
      ]
    },
    {
      "cell_type": "code",
      "metadata": {
        "colab": {
          "base_uri": "https://localhost:8080/",
          "height": 265
        },
        "id": "ZUZ6dRkYL8W6",
        "outputId": "700715f0-7b51-445c-bf41-f1ce318e38ed"
      },
      "source": [
        "#draw regression line \n",
        "\n",
        "line = regr.coef_ * X + regr.intercept_  #using y = mx +c create the regression line, coefficient as regr.coef_ and intercept as regr.intercept_\n",
        "\n",
        "plt.scatter(X, y) #plot the scatter plot for input, output i.e Hours and Scores\n",
        "plt.plot(X, line)  # plot the regression line over the scatter plot defined earlier\n",
        "plt.show() #shpw the plot\n",
        "\n"
      ],
      "execution_count": 24,
      "outputs": [
        {
          "output_type": "display_data",
          "data": {
            "image/png": "[encoded data removed]",
            "text/plain": [
              "<Figure size 432x288 with 1 Axes>"
            ]
          },
          "metadata": {
            "tags": [],
            "needs_background": "light"
          }
        }
      ]
    },
    {
      "cell_type": "code",
      "metadata": {
        "colab": {
          "base_uri": "https://localhost:8080/"
        },
        "id": "x4fEB_uFP1oj",
        "outputId": "8fccc517-a7c0-4043-feba-baef42f511b7"
      },
      "source": [
        "#making predictions\n",
        "print(X_test) #prints the testing dataset of X\n",
        "y_predict = regr.predict(X_test) #predict the values of testing dataset of X via predict() method in LinearRegression object\n",
        "\n"
      ],
      "execution_count": 25,
      "outputs": [
        {
          "output_type": "stream",
          "text": [
            "[[1.5]\n",
            " [3.2]\n",
            " [7.4]\n",
            " [2.5]\n",
            " [5.9]]\n"
          ],
          "name": "stdout"
        }
      ]
    },
    {
      "cell_type": "code",
      "metadata": {
        "colab": {
          "base_uri": "https://localhost:8080/",
          "height": 204
        },
        "id": "LEVFTfrKQjwp",
        "outputId": "c83c7b4c-b916-4203-e009-7da23035f233"
      },
      "source": [
        "#checking acuracy\n",
        "df = pd.DataFrame({'actual': y_test, 'predicted':y_predict})  #in the format of a dataframe comparing the value of y as actual and predicted value\n",
        "df  #prints the data frame defined just earlier\n"
      ],
      "execution_count": 26,
      "outputs": [
        {
          "output_type": "execute_result",
          "data": {
            "text/html": [
              "<div>\n",
              "<style scoped>\n",
              "    .dataframe tbody tr th:only-of-type {\n",
              "        vertical-align: middle;\n",
              "    }\n",
              "\n",
              "    .dataframe tbody tr th {\n",
              "        vertical-align: top;\n",
              "    }\n",
              "\n",
              "    .dataframe thead th {\n",
              "        text-align: right;\n",
              "    }\n",
              "</style>\n",
              "<table border=\"1\" class=\"dataframe\">\n",
              "  <thead>\n",
              "    <tr style=\"text-align: right;\">\n",
              "      <th></th>\n",
              "      <th>actual</th>\n",
              "      <th>predicted</th>\n",
              "    </tr>\n",
              "  </thead>\n",
              "  <tbody>\n",
              "    <tr>\n",
              "      <th>0</th>\n",
              "      <td>20</td>\n",
              "      <td>16.884145</td>\n",
              "    </tr>\n",
              "    <tr>\n",
              "      <th>1</th>\n",
              "      <td>27</td>\n",
              "      <td>33.732261</td>\n",
              "    </tr>\n",
              "    <tr>\n",
              "      <th>2</th>\n",
              "      <td>69</td>\n",
              "      <td>75.357018</td>\n",
              "    </tr>\n",
              "    <tr>\n",
              "      <th>3</th>\n",
              "      <td>30</td>\n",
              "      <td>26.794801</td>\n",
              "    </tr>\n",
              "    <tr>\n",
              "      <th>4</th>\n",
              "      <td>62</td>\n",
              "      <td>60.491033</td>\n",
              "    </tr>\n",
              "  </tbody>\n",
              "</table>\n",
              "</div>"
            ],
            "text/plain": [
              "   actual  predicted\n",
              "0      20  16.884145\n",
              "1      27  33.732261\n",
              "2      69  75.357018\n",
              "3      30  26.794801\n",
              "4      62  60.491033"
            ]
          },
          "metadata": {
            "tags": []
          },
          "execution_count": 26
        }
      ]
    },
    {
      "cell_type": "code",
      "metadata": {
        "colab": {
          "base_uri": "https://localhost:8080/"
        },
        "id": "uHv4cXe_Azok",
        "outputId": "8d7ea1e7-45a9-45a9-b8d9-3c25ba606aa2"
      },
      "source": [
        "#calculate for individual values\n",
        "hours = [[9.25]] #providing a scalar array to predict the value of y which is Scores here in our case based on hours study\n",
        "ind = regr.predict(hours) #passing the parameter from predict value returns the value and save it in the variable\n",
        "print(ind[0]) #print the value stored in the predicted output variable earlier.\n"
      ],
      "execution_count": 27,
      "outputs": [
        {
          "output_type": "stream",
          "text": [
            "93.69173248737539\n"
          ],
          "name": "stdout"
        }
      ]
    },
    {
      "cell_type": "code",
      "metadata": {
        "colab": {
          "base_uri": "https://localhost:8080/"
        },
        "id": "49FcHK8SCkow",
        "outputId": "4dc10216-75e0-4bf0-9cec-e0fa174741ff"
      },
      "source": [
        "from sklearn.metrics import mean_absolute_error #from sklearn.metrics module import the mean_absolute_error method to calculate prediction accuracy\n",
        "mean_absolute_error(y_test, y_predict)  #calculate the prediction accuracy over testing dataset of y and predict values of y for testing dataset of X"
      ],
      "execution_count": 30,
      "outputs": [
        {
          "output_type": "execute_result",
          "data": {
            "text/plain": [
              "4.183859899002982"
            ]
          },
          "metadata": {
            "tags": []
          },
          "execution_count": 30
        }
      ]
    }
  ]
}