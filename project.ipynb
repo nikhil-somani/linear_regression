{
  "nbformat": 4,
  "nbformat_minor": 0,
  "metadata": {
    "colab": {
      "name": "project.ipynb",
      "provenance": [],
      "collapsed_sections": [],
      "authorship_tag": "ABX9TyO9XZ4vzzqBrV4rHqIJYPOI",
      "include_colab_link": true
    },
    "kernelspec": {
      "name": "python3",
      "display_name": "Python 3"
    }
  },
  "cells": [
    {
      "cell_type": "markdown",
      "metadata": {
        "id": "view-in-github",
        "colab_type": "text"
      },
      "source": [
        "<a href=\"https://colab.research.google.com/github/nikhil-somani/linear_regression/blob/main/project.ipynb\" target=\"_parent\"><img src=\"https://colab.research.google.com/assets/colab-badge.svg\" alt=\"Open In Colab\"/></a>"
      ]
    },
    {
      "cell_type": "code",
      "metadata": {
        "id": "wMgLHh7MYlVB",
        "colab": {
          "base_uri": "https://localhost:8080/",
          "height": 299
        },
        "outputId": "56fd32b1-fc61-4d9e-f16a-628f96313373"
      },
      "source": [
        "import pandas as pd\n",
        "import numpy as np\n",
        "import matplotlib.pyplot as plt\n",
        "%matplotlib inline\n",
        "from scipy import stats\n",
        "\n",
        "\n",
        "url = \"http://bit.ly/w-data\"\n",
        "df = pd.read_csv(url)\n",
        "df.head(10)\n",
        "\n",
        "X = df['Hours']\n",
        "y = df['Scores']\n",
        "\n",
        "slope, intercept, r, p, std_err = stats.linregress(X, y)\n",
        "\n",
        "def myfunc(X):\n",
        "  return slope * X + intercept\n",
        "\n",
        "mymodel = list(map(myfunc, X))\n",
        "\n",
        "plt.scatter(X, y)\n",
        "plt.plot(X, mymodel)\n",
        "plt.show()\n",
        "\n",
        "\n",
        "print(myfunc(2.5))\n",
        "print(std_err)"
      ],
      "execution_count": 9,
      "outputs": [
        {
          "output_type": "display_data",
          "data": {
            "image/png": "[encoded data removed]",
            "text/plain": [
              "<Figure size 432x288 with 1 Axes>"
            ]
          },
          "metadata": {
            "tags": [],
            "needs_background": "light"
          }
        },
        {
          "output_type": "stream",
          "text": [
            "26.923181882341865\n",
            "0.45294141201804755\n"
          ],
          "name": "stdout"
        }
      ]
    }
  ]
}